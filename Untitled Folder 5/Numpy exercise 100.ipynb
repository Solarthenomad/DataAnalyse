{
 "cells": [
  {
   "cell_type": "markdown",
   "id": "95cbdf1d",
   "metadata": {},
   "source": [
    "# 넘파이 100 Exercise \n",
    "\n",
    "\n",
    "This is a collection of exercises that have been collected in the numpy mailing list, on stack overflow and in the numpy documentation. The goal of this collection is to offer a quick reference for both old and new users but also to provide a set of exercises for those who teach.\n",
    "\n",
    "If you find an error or think you've a better way to solve some of them, feel free to open an issue at https://github.com/rougier/numpy-100.\n",
    "\n",
    "File automatically generated. See the documentation to update questions/answers/hints programmatically.\n",
    "\n",
    "Run the initialize.py module, then for each question you can query the answer or an hint with hint(n) or answer(n) for n question number."
   ]
  },
  {
   "cell_type": "markdown",
   "id": "3bfee7cb",
   "metadata": {},
   "source": [
    "## 1~ 33 문제 "
   ]
  },
  {
   "cell_type": "markdown",
   "id": "a63d7ab1",
   "metadata": {},
   "source": [
    "1. Import the numpy package under the name np (★☆☆)"
   ]
  },
  {
   "cell_type": "code",
   "execution_count": 4,
   "id": "61d0c36a",
   "metadata": {},
   "outputs": [],
   "source": [
    "import numpy as np"
   ]
  },
  {
   "cell_type": "markdown",
   "id": "d8e54787",
   "metadata": {},
   "source": [
    "2. Print the numpy version and the configuration (★☆☆)"
   ]
  },
  {
   "cell_type": "code",
   "execution_count": 5,
   "id": "af29e50e",
   "metadata": {},
   "outputs": [
    {
     "name": "stdout",
     "output_type": "stream",
     "text": [
      "1.21.5\n"
     ]
    }
   ],
   "source": [
    "print(np.__version__)"
   ]
  },
  {
   "cell_type": "code",
   "execution_count": 6,
   "id": "c2063859",
   "metadata": {},
   "outputs": [
    {
     "data": {
      "text/plain": [
       "'1.21.5'"
      ]
     },
     "execution_count": 6,
     "metadata": {},
     "output_type": "execute_result"
    }
   ],
   "source": [
    "np.__version__"
   ]
  },
  {
   "cell_type": "markdown",
   "id": "76e134e3",
   "metadata": {},
   "source": [
    "3. Create a null vector of size 10 (★☆☆)\n",
    "\n",
    ">null vector(0벡터) 10개 들어 있는 것을 만들어라 "
   ]
  },
  {
   "cell_type": "code",
   "execution_count": 9,
   "id": "3dc2e9ed",
   "metadata": {},
   "outputs": [
    {
     "name": "stdout",
     "output_type": "stream",
     "text": [
      "[0. 0. 0. 0. 0. 0. 0. 0. 0. 0.]\n"
     ]
    }
   ],
   "source": [
    "x = np.zeros(10)\n",
    "# np 라이브러리의 제로벡터 10개를 꺼내옴 \n",
    "print(x)"
   ]
  },
  {
   "cell_type": "markdown",
   "id": "a658b59c",
   "metadata": {},
   "source": [
    "4. How to find the memory size of any array (★☆☆)\n",
    "> array의 메모리 사이즈를 찾는 방법 \n",
    "> array란 위에서 만든 제로 벡터 10개를 만들어놓은 배열!"
   ]
  },
  {
   "cell_type": "code",
   "execution_count": 10,
   "id": "bb04bc86",
   "metadata": {},
   "outputs": [
    {
     "name": "stdout",
     "output_type": "stream",
     "text": [
      "80\n"
     ]
    }
   ],
   "source": [
    "print(x.nbytes)"
   ]
  },
  {
   "cell_type": "code",
   "execution_count": 12,
   "id": "9fcd99b1",
   "metadata": {},
   "outputs": [
    {
     "name": "stdout",
     "output_type": "stream",
     "text": [
      "80\n"
     ]
    }
   ],
   "source": [
    "print(x.size * x.itemsize)"
   ]
  },
  {
   "cell_type": "code",
   "execution_count": 13,
   "id": "b9becf65",
   "metadata": {},
   "outputs": [
    {
     "name": "stdout",
     "output_type": "stream",
     "text": [
      "80\n"
     ]
    }
   ],
   "source": [
    "print(np.prod(x.shape) * x.itemsize)"
   ]
  },
  {
   "cell_type": "markdown",
   "id": "9ede1499",
   "metadata": {},
   "source": [
    "5. How to get the documentation of the numpy add function from the command line? (★☆☆)\n",
    ">command line으로 numpy의 add function에 대한 설명 문서 불러오기 \n",
    "> numpy에 내장된 내장함수 설명 문서 불러오기와 같다. "
   ]
  },
  {
   "cell_type": "code",
   "execution_count": 14,
   "id": "1d7bfc60",
   "metadata": {},
   "outputs": [
    {
     "name": "stdout",
     "output_type": "stream",
     "text": [
      "add(x1, x2, /, out=None, *, where=True, casting='same_kind', order='K', dtype=None, subok=True[, signature, extobj])\n",
      "\n",
      "Add arguments element-wise.\n",
      "\n",
      "Parameters\n",
      "----------\n",
      "x1, x2 : array_like\n",
      "    The arrays to be added.\n",
      "    If ``x1.shape != x2.shape``, they must be broadcastable to a common\n",
      "    shape (which becomes the shape of the output).\n",
      "out : ndarray, None, or tuple of ndarray and None, optional\n",
      "    A location into which the result is stored. If provided, it must have\n",
      "    a shape that the inputs broadcast to. If not provided or None,\n",
      "    a freshly-allocated array is returned. A tuple (possible only as a\n",
      "    keyword argument) must have length equal to the number of outputs.\n",
      "where : array_like, optional\n",
      "    This condition is broadcast over the input. At locations where the\n",
      "    condition is True, the `out` array will be set to the ufunc result.\n",
      "    Elsewhere, the `out` array will retain its original value.\n",
      "    Note that if an uninitialized `out` array is created via the default\n",
      "    ``out=None``, locations within it where the condition is False will\n",
      "    remain uninitialized.\n",
      "**kwargs\n",
      "    For other keyword-only arguments, see the\n",
      "    :ref:`ufunc docs <ufuncs.kwargs>`.\n",
      "\n",
      "Returns\n",
      "-------\n",
      "add : ndarray or scalar\n",
      "    The sum of `x1` and `x2`, element-wise.\n",
      "    This is a scalar if both `x1` and `x2` are scalars.\n",
      "\n",
      "Notes\n",
      "-----\n",
      "Equivalent to `x1` + `x2` in terms of array broadcasting.\n",
      "\n",
      "Examples\n",
      "--------\n",
      ">>> np.add(1.0, 4.0)\n",
      "5.0\n",
      ">>> x1 = np.arange(9.0).reshape((3, 3))\n",
      ">>> x2 = np.arange(3.0)\n",
      ">>> np.add(x1, x2)\n",
      "array([[  0.,   2.,   4.],\n",
      "       [  3.,   5.,   7.],\n",
      "       [  6.,   8.,  10.]])\n",
      "\n",
      "The ``+`` operator can be used as a shorthand for ``np.add`` on ndarrays.\n",
      "\n",
      ">>> x1 = np.arange(9.0).reshape((3, 3))\n",
      ">>> x2 = np.arange(3.0)\n",
      ">>> x1 + x2\n",
      "array([[ 0.,  2.,  4.],\n",
      "       [ 3.,  5.,  7.],\n",
      "       [ 6.,  8., 10.]])\n"
     ]
    }
   ],
   "source": [
    "!python -c \"import numpy; numpy.info(numpy.add)\""
   ]
  },
  {
   "cell_type": "markdown",
   "id": "77c5e4fa",
   "metadata": {},
   "source": [
    "6. Create a null vector of size 10 but the fifth value which is 1 (★☆☆)\n",
    "\n",
    "> 사이즈가 10인 0벡터 배열을 만들고 이때 예외적으로 다섯 번째 원소는 1이어야 함  \n",
    "> 우선 0벡터짜리들만 가득한 거 하나 만들기 \n",
    "> 그 다음 예외처리로 5번째 원소는 1로 해주기 \n",
    "\n"
   ]
  },
  {
   "cell_type": "code",
   "execution_count": 15,
   "id": "032d0e08",
   "metadata": {},
   "outputs": [
    {
     "name": "stdout",
     "output_type": "stream",
     "text": [
      "[0. 0. 0. 0. 1. 0. 0. 0. 0. 0.]\n"
     ]
    }
   ],
   "source": [
    "x = np.zeros(10)\n",
    "x[4]  = 1\n",
    "print(x)"
   ]
  },
  {
   "cell_type": "markdown",
   "id": "c7eb95d5",
   "metadata": {},
   "source": [
    "7. Create a vector with values ranging from 10 to 49 (★☆☆)\n",
    "\n",
    "> 원소 범위가 10~49인 행렬 만들기 \n",
    "> arange(최솟값, 최댓값-1)으로 자동으로 행렬을 생성해준다. "
   ]
  },
  {
   "cell_type": "code",
   "execution_count": 17,
   "id": "b51790a0",
   "metadata": {},
   "outputs": [
    {
     "name": "stdout",
     "output_type": "stream",
     "text": [
      "[10 11 12 13 14 15 16 17 18 19 20 21 22 23 24 25 26 27 28 29 30 31 32 33\n",
      " 34 35 36 37 38 39 40 41 42 43 44 45 46 47 48 49]\n"
     ]
    }
   ],
   "source": [
    "x = np.arange(10, 50)\n",
    "print(x)"
   ]
  },
  {
   "cell_type": "markdown",
   "id": "b9263bc4",
   "metadata": {},
   "source": [
    "9. Create a 3x3 matrix with values ranging from 0 to 8 (★☆☆)\n",
    "> 0~8원소를 가지는 3X3배열을 만들기 \n",
    ">1. 0~8까지의 원소 출력해주기 \n",
    ">2. 이 친구들을 3X로 배열해주기 "
   ]
  },
  {
   "cell_type": "code",
   "execution_count": 18,
   "id": "4054f8b9",
   "metadata": {},
   "outputs": [
    {
     "name": "stdout",
     "output_type": "stream",
     "text": [
      "[[0 1 2]\n",
      " [3 4 5]\n",
      " [6 7 8]]\n"
     ]
    }
   ],
   "source": [
    "x = np.arange(0,9)\n",
    "matrix = x.reshape([3,3])\n",
    "# reshape\n",
    "print(matrix)"
   ]
  },
  {
   "cell_type": "markdown",
   "id": "efad6227",
   "metadata": {},
   "source": [
    "10. Find indices of non-zero elements from [1,2,0,0,4,0] (★☆☆)\n",
    "\n",
    "> [1,2,0,0,4,0]의 배열 중 0이 아닌 인덱스만을 출력해주기 \n"
   ]
  },
  {
   "cell_type": "code",
   "execution_count": 20,
   "id": "486020fd",
   "metadata": {},
   "outputs": [
    {
     "name": "stdout",
     "output_type": "stream",
     "text": [
      "(array([0, 1, 4], dtype=int64),)\n"
     ]
    }
   ],
   "source": [
    "# 위의 인덱스를 하나의 변수 안에 저장해주기 =np.array\n",
    "x = np.array([1,2,0,0,4,0])\n",
    "# 조건에 맞는 값의 인덱스를 찾아주는 함수 = np.where(조건문)\n",
    "f = np.where(x!=0)\n",
    "print(f)\n",
    "\n"
   ]
  },
  {
   "cell_type": "code",
   "execution_count": 21,
   "id": "d52480f0",
   "metadata": {},
   "outputs": [
    {
     "name": "stdout",
     "output_type": "stream",
     "text": [
      "(array([0, 1, 4], dtype=int64),)\n"
     ]
    }
   ],
   "source": [
    "#두 번째 방식은 nonzero함수를 쓰게되면 자동으로 0이 아닌 원소들만을 array로 반환해준다. \n",
    "x  = np.array([1,2,0,0,4,0])\n",
    "f = np.nonzero(x)\n",
    "print(f)\n"
   ]
  },
  {
   "cell_type": "markdown",
   "id": "0233f04a",
   "metadata": {},
   "source": [
    "11. Create a 3x3 identity matrix (★☆☆)\n",
    ">3X3 항등행렬 만들기 \n",
    ">identity() : 정방단위행렬(N x N), eye() : 대각행렬 (N x M 가능)"
   ]
  },
  {
   "cell_type": "code",
   "execution_count": 22,
   "id": "47e161bc",
   "metadata": {},
   "outputs": [
    {
     "data": {
      "text/plain": [
       "array([[1., 0., 0.],\n",
       "       [0., 1., 0.],\n",
       "       [0., 0., 1.]])"
      ]
     },
     "execution_count": 22,
     "metadata": {},
     "output_type": "execute_result"
    }
   ],
   "source": [
    "np.identity(3)"
   ]
  },
  {
   "cell_type": "code",
   "execution_count": 23,
   "id": "2f38fe3e",
   "metadata": {},
   "outputs": [
    {
     "data": {
      "text/plain": [
       "array([[1., 0., 0.],\n",
       "       [0., 1., 0.],\n",
       "       [0., 0., 1.]])"
      ]
     },
     "execution_count": 23,
     "metadata": {},
     "output_type": "execute_result"
    }
   ],
   "source": [
    "np.eye(3)"
   ]
  },
  {
   "cell_type": "markdown",
   "id": "3f4ca1e7",
   "metadata": {},
   "source": [
    "12. Create a 3x3x3 array with random values (★☆☆)\n",
    ">무작위 원소를 가진 3X3X3의 array를 만들기 \n"
   ]
  },
  {
   "cell_type": "code",
   "execution_count": 25,
   "id": "2d12e83d",
   "metadata": {},
   "outputs": [
    {
     "name": "stdout",
     "output_type": "stream",
     "text": [
      "[[[0.08144294 0.79034257 0.16949408]\n",
      "  [0.60996802 0.66928254 0.58191536]\n",
      "  [0.2636332  0.82409763 0.45569985]]\n",
      "\n",
      " [[0.96240099 0.66911323 0.94262382]\n",
      "  [0.1074168  0.35897608 0.19112802]\n",
      "  [0.52714482 0.2486437  0.28772025]]\n",
      "\n",
      " [[0.54147196 0.5264128  0.11305172]\n",
      "  [0.00791475 0.02821923 0.44150418]\n",
      "  [0.15913453 0.88816034 0.88109158]]]\n"
     ]
    }
   ],
   "source": [
    "x = np.random.random([3,3,3])\n",
    "print(x)"
   ]
  },
  {
   "cell_type": "markdown",
   "id": "77b75749",
   "metadata": {},
   "source": [
    "13. Create a 10x10 array with random values and find the minimum and maximum values (★☆☆)\n",
    "> 10 X 10의 무작위 원소를 가진 array를 만들고 최솟값과 최댓값을 찾기 \n",
    "> 최솟값 : min함수 최댓값 : max 함수 \n",
    "\n"
   ]
  },
  {
   "cell_type": "code",
   "execution_count": 26,
   "id": "63b3a2b1",
   "metadata": {},
   "outputs": [
    {
     "name": "stdout",
     "output_type": "stream",
     "text": [
      "[[0.59073692 0.38805641 0.04601674 0.57530942 0.44896135 0.14634074\n",
      "  0.23979855 0.66828645 0.21343426 0.8473863 ]\n",
      " [0.0015431  0.04166724 0.62061331 0.10770632 0.2091724  0.02101884\n",
      "  0.75052779 0.66557071 0.82680356 0.34687953]\n",
      " [0.57360326 0.33842387 0.13767178 0.36157515 0.77062401 0.98947546\n",
      "  0.1093211  0.67091208 0.51471547 0.35987652]\n",
      " [0.86873595 0.50477392 0.02229766 0.69748994 0.28827674 0.41180986\n",
      "  0.51708937 0.60012477 0.27946541 0.41092707]\n",
      " [0.30551257 0.8106126  0.98116023 0.09758384 0.44846989 0.42572264\n",
      "  0.2468867  0.65882395 0.44732594 0.82726327]\n",
      " [0.85863625 0.39016571 0.01504719 0.30810945 0.07152335 0.52348289\n",
      "  0.04113063 0.50638375 0.71828294 0.31719019]\n",
      " [0.94224562 0.27135512 0.82942638 0.51538708 0.51030483 0.66045699\n",
      "  0.79389277 0.58162452 0.14805552 0.62162901]\n",
      " [0.08119063 0.74269433 0.72834251 0.90136808 0.56752405 0.01077432\n",
      "  0.88929635 0.19790179 0.66521404 0.32016584]\n",
      " [0.81180893 0.37451762 0.41866367 0.99710617 0.20463755 0.20646908\n",
      "  0.1500636  0.98646819 0.12581571 0.74120852]\n",
      " [0.00492707 0.31309127 0.88656908 0.4107143  0.95325831 0.05262024\n",
      "  0.1620465  0.6818918  0.08483062 0.50865626]]\n"
     ]
    }
   ],
   "source": [
    "x = np.random.random([10,10])\n",
    "print(x)"
   ]
  },
  {
   "cell_type": "code",
   "execution_count": 27,
   "id": "ee62e720",
   "metadata": {},
   "outputs": [
    {
     "name": "stdout",
     "output_type": "stream",
     "text": [
      "0.9971061731431077\n",
      "0.001543101899987187\n"
     ]
    }
   ],
   "source": [
    "print(x.max())\n",
    "print(x.min())"
   ]
  },
  {
   "cell_type": "markdown",
   "id": "15bbe27d",
   "metadata": {},
   "source": [
    "14. Create a random vector of size 30 and find the mean value (★☆☆)\n",
    "> 사이즈가 30인 무작위 벡터 배열을 만들고 원소들의 평균값을 구하기 \n"
   ]
  },
  {
   "cell_type": "code",
   "execution_count": 28,
   "id": "14b81357",
   "metadata": {},
   "outputs": [
    {
     "name": "stdout",
     "output_type": "stream",
     "text": [
      "0.5498249384821411\n"
     ]
    }
   ],
   "source": [
    "x = np.random.random(30)\n",
    "print(x.mean())"
   ]
  },
  {
   "cell_type": "markdown",
   "id": "6e5898be",
   "metadata": {},
   "source": [
    "15. Create a 2d array with 1 on the border and 0 inside (★☆☆)\n",
    "\n",
    "> "
   ]
  },
  {
   "cell_type": "markdown",
   "id": "532ffed0",
   "metadata": {},
   "source": [
    "17. what is the result of the following expression?  (★☆☆)"
   ]
  },
  {
   "cell_type": "code",
   "execution_count": 29,
   "id": "0339383e",
   "metadata": {},
   "outputs": [
    {
     "data": {
      "text/plain": [
       "nan"
      ]
     },
     "execution_count": 29,
     "metadata": {},
     "output_type": "execute_result"
    }
   ],
   "source": [
    "0*np.nan"
   ]
  },
  {
   "cell_type": "code",
   "execution_count": 30,
   "id": "b4a6d627",
   "metadata": {},
   "outputs": [
    {
     "data": {
      "text/plain": [
       "False"
      ]
     },
     "execution_count": 30,
     "metadata": {},
     "output_type": "execute_result"
    }
   ],
   "source": [
    "np.nan == np.nan"
   ]
  },
  {
   "cell_type": "code",
   "execution_count": 31,
   "id": "695e5d6e",
   "metadata": {},
   "outputs": [
    {
     "data": {
      "text/plain": [
       "False"
      ]
     },
     "execution_count": 31,
     "metadata": {},
     "output_type": "execute_result"
    }
   ],
   "source": [
    "np.inf > np.nan"
   ]
  },
  {
   "cell_type": "code",
   "execution_count": 32,
   "id": "8ef1f0f7",
   "metadata": {},
   "outputs": [
    {
     "data": {
      "text/plain": [
       "nan"
      ]
     },
     "execution_count": 32,
     "metadata": {},
     "output_type": "execute_result"
    }
   ],
   "source": [
    "np.nan - np.nan"
   ]
  },
  {
   "cell_type": "code",
   "execution_count": 33,
   "id": "7af49ccc",
   "metadata": {},
   "outputs": [
    {
     "data": {
      "text/plain": [
       "True"
      ]
     },
     "execution_count": 33,
     "metadata": {},
     "output_type": "execute_result"
    }
   ],
   "source": [
    "np.nan in set([np.nan])"
   ]
  },
  {
   "cell_type": "code",
   "execution_count": 34,
   "id": "f18478d6",
   "metadata": {},
   "outputs": [
    {
     "data": {
      "text/plain": [
       "False"
      ]
     },
     "execution_count": 34,
     "metadata": {},
     "output_type": "execute_result"
    }
   ],
   "source": [
    "0.3 == 3* 0.1"
   ]
  },
  {
   "cell_type": "markdown",
   "id": "9a064ef2",
   "metadata": {},
   "source": [
    "18. Create a 5x5 matrix with values 1,2,3,4 just below the diagonal (★☆☆)\n",
    "\n",
    "> 대각선 바로 아래에 값 1,2,3,4가 있는 5X5 행렬 만들기 \n",
    "diag 함수 : 주워진 원소로 대각행렬을 만들어주기 가능 "
   ]
  },
  {
   "cell_type": "code",
   "execution_count": 35,
   "id": "261afa28",
   "metadata": {},
   "outputs": [
    {
     "data": {
      "text/plain": [
       "array([[0, 0, 0, 0, 0],\n",
       "       [1, 0, 0, 0, 0],\n",
       "       [0, 2, 0, 0, 0],\n",
       "       [0, 0, 3, 0, 0],\n",
       "       [0, 0, 0, 4, 0]])"
      ]
     },
     "execution_count": 35,
     "metadata": {},
     "output_type": "execute_result"
    }
   ],
   "source": [
    "np.diag([1,2,3,4], k=-1)\n"
   ]
  },
  {
   "cell_type": "markdown",
   "id": "7f877cba",
   "metadata": {},
   "source": [
    "19. Create a 5x5 matrix with values 1,2,3,4 just below the diagonal (★☆☆)\n",
    "\n",
    "> 8X8 매트릭스를 만들고 체커보드(장기판) 패턴으로 채우기 \n",
    ">팬시인덱싱 사용 "
   ]
  },
  {
   "cell_type": "code",
   "execution_count": 38,
   "id": "5de8bd6e",
   "metadata": {},
   "outputs": [
    {
     "name": "stdout",
     "output_type": "stream",
     "text": [
      "[[0. 0. 0. 0. 0. 0. 0. 0.]\n",
      " [0. 0. 0. 0. 0. 0. 0. 0.]\n",
      " [0. 0. 0. 0. 0. 0. 0. 0.]\n",
      " [0. 0. 0. 0. 0. 0. 0. 0.]\n",
      " [0. 0. 0. 0. 0. 0. 0. 0.]\n",
      " [0. 0. 0. 0. 0. 0. 0. 0.]\n",
      " [0. 0. 0. 0. 0. 0. 0. 0.]\n",
      " [0. 0. 0. 0. 0. 0. 0. 0.]]\n"
     ]
    }
   ],
   "source": [
    "x = np.zeros((8,8))\n",
    "print(x)"
   ]
  },
  {
   "cell_type": "code",
   "execution_count": 39,
   "id": "6846cb7c",
   "metadata": {},
   "outputs": [
    {
     "name": "stdout",
     "output_type": "stream",
     "text": [
      "[[1. 0. 1. 0. 1. 0. 1. 0.]\n",
      " [0. 0. 0. 0. 0. 0. 0. 0.]\n",
      " [1. 0. 1. 0. 1. 0. 1. 0.]\n",
      " [0. 0. 0. 0. 0. 0. 0. 0.]\n",
      " [1. 0. 1. 0. 1. 0. 1. 0.]\n",
      " [0. 0. 0. 0. 0. 0. 0. 0.]\n",
      " [1. 0. 1. 0. 1. 0. 1. 0.]\n",
      " [0. 0. 0. 0. 0. 0. 0. 0.]]\n"
     ]
    }
   ],
   "source": [
    "# 여기서 몇개만 내가 필요한 것들만 뽑아서 1로 바꿔주어야한다. \n",
    "#[A::B]는 A부터 B의 step만큼 건너뛰며 slicing 한다는 뜻\n",
    "x[::2, ::2] =1\n",
    "print(x)"
   ]
  },
  {
   "cell_type": "code",
   "execution_count": 41,
   "id": "12a46220",
   "metadata": {},
   "outputs": [
    {
     "name": "stdout",
     "output_type": "stream",
     "text": [
      "[[1. 0. 1. 0. 1. 0. 1. 0.]\n",
      " [0. 1. 0. 1. 0. 1. 0. 1.]\n",
      " [1. 0. 1. 0. 1. 0. 1. 0.]\n",
      " [0. 1. 0. 1. 0. 1. 0. 1.]\n",
      " [1. 0. 1. 0. 1. 0. 1. 0.]\n",
      " [0. 1. 0. 1. 0. 1. 0. 1.]\n",
      " [1. 0. 1. 0. 1. 0. 1. 0.]\n",
      " [0. 1. 0. 1. 0. 1. 0. 1.]]\n"
     ]
    }
   ],
   "source": [
    "x[1::2, 1::2] =1 \n",
    "print(x)"
   ]
  },
  {
   "cell_type": "code",
   "execution_count": 42,
   "id": "c1655a2b",
   "metadata": {},
   "outputs": [
    {
     "name": "stdout",
     "output_type": "stream",
     "text": [
      "[[0 1 0 1 0 1 0 1]\n",
      " [1 0 1 0 1 0 1 0]\n",
      " [0 1 0 1 0 1 0 1]\n",
      " [1 0 1 0 1 0 1 0]\n",
      " [0 1 0 1 0 1 0 1]\n",
      " [1 0 1 0 1 0 1 0]\n",
      " [0 1 0 1 0 1 0 1]\n",
      " [1 0 1 0 1 0 1 0]]\n"
     ]
    }
   ],
   "source": [
    "#np.tile은 다차원 배열을 자동으로 생성해준다. \n",
    "#np.tile(np.array([[내가 생성하고 싶은 a행렬, 내가 생성하고 싶은 b 행렬 ], []]))\n",
    "x= np.tile(np.array([[0,1], [1,0]]), (4,4))\n",
    "print(x)"
   ]
  },
  {
   "cell_type": "markdown",
   "id": "059e504e",
   "metadata": {},
   "source": [
    "20. Consider a (6,7,8) shape array, what is the index (x,y,z) of the 100th element? (★☆☆)"
   ]
  },
  {
   "cell_type": "code",
   "execution_count": 5,
   "id": "4431ddb3",
   "metadata": {},
   "outputs": [
    {
     "name": "stdout",
     "output_type": "stream",
     "text": [
      "[[[0.51585019 0.72448254 0.59953306 0.57676385 0.40997573 0.56412416\n",
      "   0.28697475 0.4810523 ]\n",
      "  [0.82136181 0.85819112 0.69044589 0.128949   0.10886231 0.20453256\n",
      "   0.93941191 0.29366202]\n",
      "  [0.08609205 0.62939676 0.10366409 0.66658641 0.32235936 0.88545464\n",
      "   0.85102874 0.08252985]\n",
      "  [0.44983545 0.99461704 0.39191452 0.83298207 0.48414872 0.38313968\n",
      "   0.56302775 0.95728539]\n",
      "  [0.43619052 0.61482247 0.58176117 0.98620196 0.87516297 0.72985405\n",
      "   0.82984086 0.69543749]\n",
      "  [0.39751364 0.24709581 0.35285036 0.00583293 0.11908889 0.6753352\n",
      "   0.01991708 0.69424204]\n",
      "  [0.65867794 0.1955866  0.28549217 0.11010056 0.24125083 0.22194136\n",
      "   0.74778313 0.45855702]]\n",
      "\n",
      " [[0.85015302 0.21955867 0.35183712 0.80004882 0.97078615 0.00972766\n",
      "   0.90149836 0.40772887]\n",
      "  [0.26597035 0.53873676 0.51544025 0.82545002 0.3261678  0.47070435\n",
      "   0.58527376 0.16129682]\n",
      "  [0.18046654 0.71536034 0.25911979 0.10563007 0.63725218 0.24722135\n",
      "   0.68822191 0.83478367]\n",
      "  [0.65993685 0.03186967 0.09507631 0.26942519 0.52906363 0.95823418\n",
      "   0.69838987 0.79651644]\n",
      "  [0.05786863 0.21017792 0.08386098 0.37451921 0.46322021 0.45071879\n",
      "   0.10550277 0.73507266]\n",
      "  [0.86641698 0.85376482 0.32556389 0.2697408  0.97472699 0.09980552\n",
      "   0.60529118 0.95594619]\n",
      "  [0.17710122 0.02512834 0.73254109 0.88123875 0.07406583 0.5371016\n",
      "   0.09399982 0.99826027]]\n",
      "\n",
      " [[0.7817736  0.57819125 0.71133961 0.51816925 0.98402614 0.47921831\n",
      "   0.39163057 0.53123338]\n",
      "  [0.25901454 0.73520639 0.25599101 0.03282545 0.63094522 0.50826039\n",
      "   0.71804725 0.08774293]\n",
      "  [0.59971141 0.36694233 0.17460075 0.61613642 0.37363597 0.04856488\n",
      "   0.67890831 0.51017851]\n",
      "  [0.65415314 0.75271686 0.96830026 0.28081727 0.9954309  0.04370676\n",
      "   0.99858452 0.60033486]\n",
      "  [0.90138444 0.7397919  0.12600826 0.9009089  0.94931563 0.56411871\n",
      "   0.5527235  0.83902646]\n",
      "  [0.60457465 0.43659963 0.78800986 0.39604309 0.1142372  0.27859723\n",
      "   0.4744967  0.47414192]\n",
      "  [0.49775026 0.26010895 0.66071692 0.52101947 0.92629481 0.39042009\n",
      "   0.859132   0.73169209]]\n",
      "\n",
      " [[0.62186072 0.37120506 0.82483452 0.43044093 0.92361327 0.44156359\n",
      "   0.32214639 0.17202824]\n",
      "  [0.49451875 0.14204868 0.47805718 0.86070796 0.52505688 0.76476241\n",
      "   0.60530822 0.94138719]\n",
      "  [0.24407515 0.15448432 0.4231962  0.94810254 0.60420521 0.20170484\n",
      "   0.8099221  0.49047974]\n",
      "  [0.45202794 0.82368566 0.60570781 0.25012153 0.31447301 0.47094127\n",
      "   0.86632271 0.66732334]\n",
      "  [0.54237565 0.57336748 0.86505515 0.04250265 0.73878916 0.50874499\n",
      "   0.09418766 0.70881812]\n",
      "  [0.35663393 0.25917299 0.0918557  0.6760287  0.49044823 0.02356662\n",
      "   0.8608464  0.58082298]\n",
      "  [0.71267447 0.06467672 0.7984877  0.630058   0.68907467 0.37134245\n",
      "   0.45261871 0.31124577]]\n",
      "\n",
      " [[0.09748932 0.68668568 0.91317823 0.73737121 0.07323389 0.19695658\n",
      "   0.80516589 0.2200515 ]\n",
      "  [0.8648997  0.75106819 0.45468458 0.96916798 0.72018312 0.93338607\n",
      "   0.72491257 0.94956659]\n",
      "  [0.6166578  0.57254793 0.31027469 0.33588241 0.43996951 0.1886666\n",
      "   0.61906438 0.35315435]\n",
      "  [0.89837119 0.37380318 0.74652858 0.65685056 0.95695302 0.99035886\n",
      "   0.93231652 0.53788598]\n",
      "  [0.71507097 0.45328885 0.64020992 0.06543589 0.51698074 0.15081276\n",
      "   0.29460622 0.53448028]\n",
      "  [0.81027681 0.83290321 0.84806468 0.81901116 0.56300811 0.45869656\n",
      "   0.27387336 0.34467138]\n",
      "  [0.15813617 0.89045643 0.55105282 0.91236969 0.04567177 0.59426522\n",
      "   0.55733653 0.73814469]]\n",
      "\n",
      " [[0.11049756 0.2421257  0.09402483 0.24403202 0.3551261  0.12637167\n",
      "   0.85138378 0.23185016]\n",
      "  [0.13481295 0.96864188 0.62937404 0.65603369 0.23722139 0.20787165\n",
      "   0.34996722 0.86332071]\n",
      "  [0.94608229 0.09884166 0.55936634 0.96886085 0.22590622 0.69049041\n",
      "   0.74651483 0.94005577]\n",
      "  [0.33814474 0.08326971 0.31039982 0.09552869 0.56665461 0.58497266\n",
      "   0.65096589 0.48035296]\n",
      "  [0.99531402 0.31920531 0.90208435 0.51544386 0.27799082 0.7507487\n",
      "   0.47340609 0.68380297]\n",
      "  [0.25185458 0.97005995 0.35251977 0.19125551 0.87404787 0.24007841\n",
      "   0.98633513 0.16816444]\n",
      "  [0.58619453 0.17723009 0.92215701 0.19734264 0.73392367 0.12419731\n",
      "   0.89839898 0.21094436]]]\n"
     ]
    }
   ],
   "source": [
    "import numpy as np\n",
    "x= np.random.random([6,7,8])\n",
    "print(x)\n",
    "where(index)\n"
   ]
  },
  {
   "cell_type": "code",
   "execution_count": null,
   "id": "455938aa",
   "metadata": {},
   "outputs": [],
   "source": []
  },
  {
   "cell_type": "markdown",
   "id": "bc6d55bd",
   "metadata": {},
   "source": [
    "21. Create a checkerboard 8x8 matrix using the tile function (★☆☆)\n",
    "\n",
    "> 타일 함수를 활용하여(np.tile(np.array([[]], ())"
   ]
  },
  {
   "cell_type": "code",
   "execution_count": 44,
   "id": "17ac4b9d",
   "metadata": {},
   "outputs": [
    {
     "name": "stdout",
     "output_type": "stream",
     "text": [
      "[[1 0 1 0 1 0 1 0]\n",
      " [0 1 0 1 0 1 0 1]\n",
      " [1 0 1 0 1 0 1 0]\n",
      " [0 1 0 1 0 1 0 1]\n",
      " [1 0 1 0 1 0 1 0]\n",
      " [0 1 0 1 0 1 0 1]\n",
      " [1 0 1 0 1 0 1 0]\n",
      " [0 1 0 1 0 1 0 1]]\n"
     ]
    }
   ],
   "source": [
    "x = np.tile(np.array([[1,0], [0,1]]), (4,4))\n",
    "print(x)"
   ]
  },
  {
   "cell_type": "markdown",
   "id": "2a01a523",
   "metadata": {},
   "source": [
    "22. Normalize a 5x5 random matrix \n",
    "> 5X5 matrix를 만든 뒤 정규화하기 \n",
    ">Z (z-score nomarlization) = z 정규화  \n",
    ">= (X – 평균) / (표준편차)"
   ]
  },
  {
   "cell_type": "code",
   "execution_count": 48,
   "id": "7b4f03b2",
   "metadata": {},
   "outputs": [
    {
     "name": "stdout",
     "output_type": "stream",
     "text": [
      "[[0.13668214 0.69748296 0.94443675 0.79740396 0.91641061]\n",
      " [0.19485696 0.01826225 0.57185295 0.62935134 0.25337132]\n",
      " [0.38672949 0.90436394 0.79877295 0.12395179 0.16930729]\n",
      " [0.99450288 0.76021555 0.42184799 0.7930498  0.18490903]\n",
      " [0.79993588 0.99117786 0.69288485 0.15995531 0.400149  ]]\n",
      "[[-1.30848623  0.46830203  1.25072707  0.78488228  1.16193168]\n",
      " [-1.12417062 -1.68367658  0.0702678   0.25244027 -0.93877927]\n",
      " [-0.51625984  1.12376415  0.78921965 -1.34881986 -1.20511976]\n",
      " [ 1.40935185  0.66705806 -0.40499372  0.77108699 -1.15568869]\n",
      " [ 0.79290419  1.39881717  0.45373381 -1.2347497  -0.47374275]]\n"
     ]
    }
   ],
   "source": [
    "x = np.random.random([5,5])\n",
    "print(x)\n",
    "n = (x-x.mean())/x.std()\n",
    "print(n)"
   ]
  },
  {
   "cell_type": "markdown",
   "id": "d6c0b8a9",
   "metadata": {},
   "source": [
    "23. Create a custom dtype that describes a color as four unsigned bytes (RGBA) (★☆☆)\n",
    "\n",
    ">색상을 4개의 부호없는 바이트(unsigned bytes)의 사용자 dtype을 만들기 \n",
    ">np.dtype([(),(),(),()])"
   ]
  },
  {
   "cell_type": "code",
   "execution_count": 49,
   "id": "606634d2",
   "metadata": {},
   "outputs": [
    {
     "name": "stdout",
     "output_type": "stream",
     "text": [
      "[('r', 'u1'), ('g', 'u1'), ('b', 'u1'), ('a', 'u1')]\n"
     ]
    }
   ],
   "source": [
    "color = np.dtype([(\"r\", np.ubyte),(\"g\", np.ubyte),(\"b\", np.ubyte),(\"a\", np.ubyte)])\n",
    "print(color)"
   ]
  },
  {
   "cell_type": "markdown",
   "id": "026b6ab4",
   "metadata": {},
   "source": [
    "24. Multiply a 5x3 matrix by a 3x2 matrix (real matrix product) (★☆☆)\n",
    "\n",
    ">5X3행렬에 3X2행렬 곱하기 \n",
    ">곱하기 = np.dot()"
   ]
  },
  {
   "cell_type": "code",
   "execution_count": 55,
   "id": "a3acfc31",
   "metadata": {},
   "outputs": [
    {
     "name": "stdout",
     "output_type": "stream",
     "text": [
      "[[0.4492412  0.16586323]\n",
      " [0.65011229 0.1980888 ]\n",
      " [0.41567884 0.62521743]] [[0.9945005  0.90921132 0.95399399]\n",
      " [0.33269457 0.92175627 0.78450972]\n",
      " [0.8317736  0.67697803 0.3869337 ]\n",
      " [0.69455971 0.07174916 0.22309204]\n",
      " [0.00276116 0.25159646 0.05824772]]\n"
     ]
    },
    {
     "ename": "ValueError",
     "evalue": "matmul: Input operand 1 has a mismatch in its core dimension 0, with gufunc signature (n?,k),(k,m?)->(n?,m?) (size 5 is different from 2)",
     "output_type": "error",
     "traceback": [
      "\u001b[1;31m---------------------------------------------------------------------------\u001b[0m",
      "\u001b[1;31mValueError\u001b[0m                                Traceback (most recent call last)",
      "\u001b[1;32m~\\AppData\\Local\\Temp\\ipykernel_23160\\508676738.py\u001b[0m in \u001b[0;36m<module>\u001b[1;34m\u001b[0m\n\u001b[0;32m      2\u001b[0m \u001b[0marr2\u001b[0m \u001b[1;33m=\u001b[0m \u001b[0mnp\u001b[0m\u001b[1;33m.\u001b[0m\u001b[0mrandom\u001b[0m\u001b[1;33m.\u001b[0m\u001b[0mrandom\u001b[0m\u001b[1;33m(\u001b[0m\u001b[1;33m(\u001b[0m\u001b[1;36m5\u001b[0m\u001b[1;33m,\u001b[0m\u001b[1;36m3\u001b[0m\u001b[1;33m)\u001b[0m\u001b[1;33m)\u001b[0m\u001b[1;33m\u001b[0m\u001b[1;33m\u001b[0m\u001b[0m\n\u001b[0;32m      3\u001b[0m \u001b[0mprint\u001b[0m\u001b[1;33m(\u001b[0m\u001b[0marr1\u001b[0m\u001b[1;33m,\u001b[0m \u001b[0marr2\u001b[0m\u001b[1;33m)\u001b[0m\u001b[1;33m\u001b[0m\u001b[1;33m\u001b[0m\u001b[0m\n\u001b[1;32m----> 4\u001b[1;33m \u001b[0marr1\u001b[0m\u001b[1;33m@\u001b[0m\u001b[0marr2\u001b[0m\u001b[1;33m\u001b[0m\u001b[1;33m\u001b[0m\u001b[0m\n\u001b[0m",
      "\u001b[1;31mValueError\u001b[0m: matmul: Input operand 1 has a mismatch in its core dimension 0, with gufunc signature (n?,k),(k,m?)->(n?,m?) (size 5 is different from 2)"
     ]
    }
   ],
   "source": [
    "arr1 = np.random.random((3,2))\n",
    "arr2 = np.random.random((5,3))\n",
    "print(arr1, arr2)\n",
    "arr1@arr2"
   ]
  },
  {
   "cell_type": "markdown",
   "id": "d3e30f57",
   "metadata": {},
   "source": [
    "25. Given a 1D array, negate all elements which are between 3 and 8, in place. (★☆☆)\n",
    "\n",
    "> 1차원 배열에서 3에서 8사이의 값을 음수화하기 "
   ]
  },
  {
   "cell_type": "code",
   "execution_count": 57,
   "id": "250ca083",
   "metadata": {},
   "outputs": [
    {
     "name": "stdout",
     "output_type": "stream",
     "text": [
      "[ 1  2  3  4  5  6  7  8  9 10]\n"
     ]
    }
   ],
   "source": [
    "#1차원의 0~10까지 값을 만들기 \n",
    "x = np.arange(1, 11)\n",
    "print(x)\n"
   ]
  },
  {
   "cell_type": "markdown",
   "id": "6747a629",
   "metadata": {},
   "source": [
    "26. What is the output of the following script? (★☆☆)\n",
    "> 다음 스크립트의 출력값은 어떻게 되나요?\n",
    "># Author: Jake VanderPlas\n",
    "\n",
    "print(sum(range(5),-1))\n",
    "from numpy import *\n",
    "print(sum(range(5),-1))"
   ]
  },
  {
   "cell_type": "code",
   "execution_count": 58,
   "id": "947faee1",
   "metadata": {},
   "outputs": [
    {
     "name": "stdout",
     "output_type": "stream",
     "text": [
      "9\n"
     ]
    }
   ],
   "source": [
    "print(sum(range(5), -1))"
   ]
  },
  {
   "cell_type": "code",
   "execution_count": 9,
   "id": "61b4c4fd",
   "metadata": {},
   "outputs": [
    {
     "name": "stdout",
     "output_type": "stream",
     "text": [
      "10\n"
     ]
    }
   ],
   "source": [
    "from numpy import *\n",
    "print(sum(range(5), -1))\n"
   ]
  },
  {
   "cell_type": "code",
   "execution_count": 12,
   "id": "6d2d0900",
   "metadata": {},
   "outputs": [
    {
     "name": "stdout",
     "output_type": "stream",
     "text": [
      "10\n",
      "10\n"
     ]
    }
   ],
   "source": [
    "from numpy import * \n",
    "print(sum(range(5), 0))\n",
    "print(sum(range(5), 0))"
   ]
  },
  {
   "cell_type": "markdown",
   "id": "5196b2e2",
   "metadata": {},
   "source": [
    "27. Consider an integer vector Z, which of these expressions are legal? (★☆☆)\n",
    "> 정수 벡터 Z를 생각하였을 때 이 표현식들은 각각 옳은가? "
   ]
  },
  {
   "cell_type": "code",
   "execution_count": 89,
   "id": "6c1e2aa0",
   "metadata": {},
   "outputs": [
    {
     "name": "stdout",
     "output_type": "stream",
     "text": [
      "[0 1 2 3 4]\n",
      "[  1   1   4  27 256]\n",
      "[0 1 2 4 8]\n",
      "[False False False False False]\n",
      "[0.+0.j 0.+1.j 0.+2.j 0.+3.j 0.+4.j]\n",
      "[0. 1. 2. 3. 4.]\n"
     ]
    }
   ],
   "source": [
    "z = np.arange(5)\n",
    "print(z)\n",
    "print(z**z)\n",
    "print(2<<z >>2)\n",
    "print(z<-z)\n",
    "print(1j *z)\n",
    "print(z/1/1)"
   ]
  },
  {
   "cell_type": "code",
   "execution_count": null,
   "id": "ad8bd2dc",
   "metadata": {},
   "outputs": [],
   "source": []
  },
  {
   "cell_type": "code",
   "execution_count": null,
   "id": "7ac5b218",
   "metadata": {},
   "outputs": [],
   "source": []
  },
  {
   "cell_type": "code",
   "execution_count": null,
   "id": "dc7ac34a",
   "metadata": {},
   "outputs": [],
   "source": []
  },
  {
   "cell_type": "code",
   "execution_count": null,
   "id": "6d82977e",
   "metadata": {},
   "outputs": [],
   "source": []
  },
  {
   "cell_type": "code",
   "execution_count": null,
   "id": "e9d31b2a",
   "metadata": {},
   "outputs": [],
   "source": []
  },
  {
   "cell_type": "markdown",
   "id": "b98daca8",
   "metadata": {},
   "source": []
  },
  {
   "cell_type": "code",
   "execution_count": null,
   "id": "2e5c4568",
   "metadata": {},
   "outputs": [],
   "source": []
  },
  {
   "cell_type": "markdown",
   "id": "6ccb508f",
   "metadata": {},
   "source": [
    "28. What are the result of the following expressions? (★☆☆)\n",
    "\n",
    ">다음 표현의 결과는 무엇입니까?\n",
    ">array 나누기는 불가함(/ 사용 불가)\n",
    ">// : 나누기 연산 후 소수점 이하의 수를 버리고 정수 부분의 수만 구하는 것은 가능(//이건 가능)\n"
   ]
  },
  {
   "cell_type": "code",
   "execution_count": 82,
   "id": "4cd28a2c",
   "metadata": {},
   "outputs": [
    {
     "name": "stdout",
     "output_type": "stream",
     "text": [
      "nan\n",
      "0\n",
      "[-2.14748365e+09]\n"
     ]
    },
    {
     "name": "stderr",
     "output_type": "stream",
     "text": [
      "C:\\Users\\trixy\\AppData\\Local\\Temp\\ipykernel_23160\\3912170336.py:1: RuntimeWarning: invalid value encountered in true_divide\n",
      "  print(np.array(0) / np.array(0))\n",
      "C:\\Users\\trixy\\AppData\\Local\\Temp\\ipykernel_23160\\3912170336.py:2: RuntimeWarning: divide by zero encountered in floor_divide\n",
      "  print(np.array(0) // np.array(0))\n"
     ]
    }
   ],
   "source": [
    "print(np.array(0) / np.array(0))\n",
    "print(np.array(0) // np.array(0))\n",
    "print(np.array([np.nan]).astype(int).astype(float))\n"
   ]
  },
  {
   "cell_type": "markdown",
   "id": "bbde09df",
   "metadata": {},
   "source": [
    "29. How to round away from zero a float array ? (★☆☆)\n",
    ">부동 배열 0에서 반올림하는 방법은?\n",
    ">절대값으로 바꾸고, np.ceil()을 통해 올림한다.\n",
    "절대값으로 바꾸기 : np.ceil(np.abs(x),x)\n",
    ">잘 모르겠음 ㅠㅠㅠ"
   ]
  },
  {
   "cell_type": "code",
   "execution_count": 13,
   "id": "c66eb5b0",
   "metadata": {},
   "outputs": [
    {
     "name": "stdout",
     "output_type": "stream",
     "text": [
      "[ 0.00624024 -1.63394183 -0.22648497  1.98419864  2.05722244 -4.27924969\n",
      " -3.26491251 -3.8928756   1.61335707 -2.1965311   3.6653857  -1.76574178\n",
      " -3.82389054  3.84932547  1.92325432 -0.76633854 -2.4695148   3.69627878\n",
      " -1.8031902   2.28342258]\n",
      "[ 0. -2. -0.  2.  2. -4. -3. -4.  2. -2.  4. -2. -4.  4.  2. -1. -2.  4.\n",
      " -2.  2.]\n"
     ]
    }
   ],
   "source": [
    "x = np.random.uniform(-5, 5, 20)\n",
    "print(x)\n",
    "z = np.round(x)\n",
    "print(z)"
   ]
  },
  {
   "cell_type": "markdown",
   "id": "ed78b4fb",
   "metadata": {},
   "source": [
    "30. How to find common values between two arrays? (★☆☆)\n",
    ">두 배열의 공통값을 찾으세요.\n",
    "np.random.randint(최솟값, 최댓값, 출력할 원소의 개수) : 무작위로 0~10 사이에 있는 원소를 10개로 배열하기 \n"
   ]
  },
  {
   "cell_type": "code",
   "execution_count": 71,
   "id": "45b9a5a2",
   "metadata": {},
   "outputs": [
    {
     "name": "stdout",
     "output_type": "stream",
     "text": [
      "[8 6 8 2 6 1 9 2 5 1] [7 7 5 5 3 7 6 0 1 2]\n"
     ]
    }
   ],
   "source": [
    "arr1 = np.random.randint(0,10,10)\n",
    "arr2 = np.random.randint(0,10,10)\n",
    "print(arr1, arr2)\n",
    "print(np.interset1d(arr1, arr2))"
   ]
  },
  {
   "cell_type": "markdown",
   "id": "0d380bd0",
   "metadata": {},
   "source": [
    "31. How to ignore all numpy warnings (not recommended)? (★☆☆)\n",
    ">모든 numpy 경고 메세지를 무시하는 방법이 무엇인가? \n",
    ">np.seterr() 메서드 사용\n",
    "1. 부동소수점 오류 처리 방법 설정\n",
    "2. 나눗셈(divide), 오버플로우(over), 언더플로우(under), 유효하지않은(invalid) 소수점에 대해 각각 처리가능\n",
    "3. {무시, 경고, 에러발생, 함수호출, 경고출력, log객체에 기록}으로 처리가능\n",
    "4. numpy.seterr documentation"
   ]
  },
  {
   "cell_type": "code",
   "execution_count": null,
   "id": "5fa8d0f7",
   "metadata": {},
   "outputs": [],
   "source": [
    "#ignore할 대상 : all 로 설정하여 오류 발생할 때 아무것도 하지 못하게 함 \n",
    "defaults = np.seterr(all = \"ignore\")\n"
   ]
  },
  {
   "cell_type": "markdown",
   "id": "0ba880f8",
   "metadata": {},
   "source": [
    "32. Is the following expressions true? (★☆☆)\n",
    ">다음 표현식이 참인가? "
   ]
  },
  {
   "cell_type": "code",
   "execution_count": 67,
   "id": "759b6a2b",
   "metadata": {},
   "outputs": [
    {
     "name": "stderr",
     "output_type": "stream",
     "text": [
      "C:\\Users\\trixy\\AppData\\Local\\Temp\\ipykernel_23160\\244602691.py:1: RuntimeWarning: invalid value encountered in sqrt\n",
      "  np.sqrt(-1) == np.emath.sqrt(-1)\n"
     ]
    },
    {
     "data": {
      "text/plain": [
       "False"
      ]
     },
     "execution_count": 67,
     "metadata": {},
     "output_type": "execute_result"
    }
   ],
   "source": [
    "np.sqrt(-1) == np.emath.sqrt(-1)"
   ]
  },
  {
   "cell_type": "markdown",
   "id": "c20ecb9c",
   "metadata": {},
   "source": [
    "33. How to get the dates of yesterday, today and tomorrow? (★☆☆)\n",
    "> 오늘과 내일, 어제의 날짜를 구하여라 \n",
    ">오늘 날짜 구하는 방법 :  np.datetime64('today', 'D')\n",
    ">오늘을 기준으로 np.timedelta64()만큼의 연산을 통해 날짜 이동\n",
    ">np.timedelta64(1, 'D')라면 1일을 뜻한다. ('M'은 n달, 'Y'는 n년)"
   ]
  },
  {
   "cell_type": "code",
   "execution_count": 65,
   "id": "a202b6be",
   "metadata": {},
   "outputs": [
    {
     "name": "stdout",
     "output_type": "stream",
     "text": [
      "2023-01-14\n",
      "2023-01-15\n",
      "2023-01-13\n"
     ]
    }
   ],
   "source": [
    "import numpy as np\n",
    "#오늘 날짜 구하기 \n",
    "today = np.datetime64('today', 'D')\n",
    "print(today)\n",
    "#내일날짜구하기 \n",
    "tomorrow = np.datetime64('today', 'D') + np.timedelta64(1, 'D')\n",
    "print(tomorrow)\n",
    "#어제 날짜 구하기\n",
    "yesterday = np.datetime64('today', 'D') - np.timedelta64(1, 'D')\n",
    "print(yesterday)"
   ]
  },
  {
   "cell_type": "code",
   "execution_count": null,
   "id": "c94e4b81",
   "metadata": {},
   "outputs": [],
   "source": []
  }
 ],
 "metadata": {
  "kernelspec": {
   "display_name": "Python 3 (ipykernel)",
   "language": "python",
   "name": "python3"
  },
  "language_info": {
   "codemirror_mode": {
    "name": "ipython",
    "version": 3
   },
   "file_extension": ".py",
   "mimetype": "text/x-python",
   "name": "python",
   "nbconvert_exporter": "python",
   "pygments_lexer": "ipython3",
   "version": "3.9.13"
  }
 },
 "nbformat": 4,
 "nbformat_minor": 5
}
